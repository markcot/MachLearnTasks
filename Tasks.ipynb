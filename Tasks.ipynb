{
 "cells": [
  {
   "cell_type": "markdown",
   "metadata": {},
   "source": [
    "# Assessment Tasks\n",
    "\n",
    "**Author:** Mark Cotter\n",
    "**Email:**  g00376335@gmit.ie\n",
    "\n",
    "This is my Jupyter notebook for researching, developing and documenting assessment task set for the GMIT module Machine Learning and Statistics.\n",
    "\n",
    "***"
   ]
  },
  {
   "cell_type": "markdown",
   "metadata": {},
   "source": [
    "### Task 1 - Square Root Function\n",
    "\n",
    "**Task Description** Write a Python function called sqrt2 that calculates and prints to the screen the square root of 2 to 100 decimal places.\n",
    "***\n",
    "\n",
    "#### References\n",
    "[1] \n",
    "\n",
    "#### Research\n",
    "\n",
    "What does square root mean in brief simple terms?\n",
    "\n",
    "How do computers calculate square root?\n",
    "\n",
    "What algorithms can be used to approximate square root?\n",
    "\n",
    "How can these algorithms be implemented in Python code?\n"
   ]
  }
 ],
 "metadata": {
  "kernelspec": {
   "display_name": "Python 3",
   "language": "python",
   "name": "python3"
  },
  "language_info": {
   "codemirror_mode": {
    "name": "ipython",
    "version": 3
   },
   "file_extension": ".py",
   "mimetype": "text/x-python",
   "name": "python",
   "nbconvert_exporter": "python",
   "pygments_lexer": "ipython3",
   "version": "3.8.3"
  }
 },
 "nbformat": 4,
 "nbformat_minor": 4
}
