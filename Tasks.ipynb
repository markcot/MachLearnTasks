{
 "cells": [
  {
   "cell_type": "markdown",
   "metadata": {},
   "source": [
    "# Assessment Tasks\n",
    "\n",
    "**Author:** Mark Cotter\n",
    "**Email:**  g00376335@gmit.ie\n",
    "\n",
    "This is my Jupyter notebook for researching, developing and documenting assessment task set for the GMIT module Machine Learning and Statistics.\n",
    "\n",
    "***"
   ]
  },
  {
   "cell_type": "markdown",
   "metadata": {},
   "source": [
    "## Task 1: Square Root Function\n",
    "\n",
    "**Task Description:** Write a Python function called sqrt2 that calculates and prints to the screen the square root of 2 to 100 decimal places.\n",
    "\n",
    "***\n",
    "\n",
    "### References\n",
    "[1] Square root - definition; Cambridge dictionary; https://dictionary.cambridge.org/dictionary/english/square-root\n",
    "\n",
    "[2] Squares and square roots; MathsIsFun.com; https://www.mathsisfun.com/square-root.html\n",
    "\n",
    "[3] Square root of 2 & Irrational numbers; MathsIsFun.com; https://www.mathsisfun.com/numbers/square-root-2-irrational.html\n",
    "\n",
    "[4] Square Root Of 2; Byjus The Learning App; https://byjus.com/maths/square-root-of-2/\n",
    "\n",
    "[5] Records in computation - Square root of 2; Wikipedia; https://en.wikipedia.org/wiki/Square_root_of_2\n",
    "\n",
    "[6] Square root of 2 to 10 million places; NASA; https://apod.nasa.gov/htmltest/gifcity/sqrt2.10mil\n",
    "\n",
    "[7] Methods_of_computing_square_roots; Wikipedia; https://en.wikipedia.org/wiki/Methods_of_computing_square_roots\n",
    "\n",
    "[8] Newton's method; Wikipedia;  https://en.wikipedia.org/wiki/Newton%27s_method#Square_root\n",
    "\n",
    "[9] Pitfalls in the use of computers for the Newton-Raphson Method; D. Mackie and T. Scott; The Mathematical Gazette Vol. 69; https://www.jstor.org/stable/3617567?read-now=1&seq=1#page_scan_tab_contents\n",
    "\n",
    "[10] The Bakhshali manuscript method; A quartically convergent algorithm for square roots; David H Bailey & Jonathan M. Borwein; https://www.davidhbailey.com//dhbtalks/dhb-india-math.pdf\n",
    "\n",
    "### Research\n",
    "\n",
    "Definition of **square root** of a number: A mathematical relationship to a given original number, insofar as when the square root number is multiplied by itself (otherwise known as the number squared), the multiplication result equals the original number [1, 2].\n",
    "\n",
    "The square root of two has a mathematical property that it can not be written as a fraction, makes it an irrational number [3]. This also means that amount of decimal places for square root of 2 is infinite and has currently been calculated to 10 trillion digits [4, 5]. The square root of 2 to 100 decimal places is as follows [6].\n",
    "\n",
    "$$ \\sqrt{2} = 1.4142135623 7309504880 1688724209 6980785696 7187537694 8073176679 7379907324 7846210703 8850387534 3276415727... $$\n",
    "\n",
    "\n",
    "Computers can be used to calculate the approximate square root of a given number, where an initial guess for the square root is taken and a recursive algorithm is used to calculate a better estimate of the square root [7].\n",
    "\n",
    "Newton's method is an algorithm that is often used to quickly calculate the square root of a number [8]. In computing, Newton's method does have problems insofar as a poor initial guess, oscillating successive estimations and rounding errors may cause the algorithm not to converge on the desired result or for two different computers to produce different results using the same algorithm [8, 9].\n",
    "\n",
    "Another less well known algorithm for calculating the square root of a number is the Bakhshali manuscript method [7, 10]. It is based on an ancient Indian mathematical manuscript. This algorithm also requires the use of an initial guess for the square root $x_{0}$ of a number $q$. To calculate the next better approximation of the square root $x$, a modifier value $a$ is calculated based the difference between $q$ and the square of previous square root estimate $x$. This method has been shown to be equivalent to two iterations of the Newton method [7, 10]. The equations for the first iteration of the Bakhshali algorithm to calculate the next better square root estimate $x_{1}$ is as follows [10]:\n",
    "\n",
    "***\n",
    "\n",
    "$$a_{0} = {\\frac{q - x^2_{0}}{2x_{0}}} $$\n",
    "\n",
    "***\n",
    "\n",
    "$$ x_{1} = x_{0} + a_{0} - {\\frac{a^2_{0}} {2(x_{0} + a_{0})}}$$\n",
    "\n",
    "***\n",
    "\n",
    "### Steps to implementation the square root algorithm in Python code\n",
    "\n",
    "* Define a Python function called \"sqrt2\".\n",
    "\n",
    "* Pick a reasonable initial estimate for the square root the required number, noting that the instructions specifically require square root of the number \"2\" be printed to the screen. I noted that my first estimate was to set x0 = q/2 resulted in a having a zero value of a for sqrt(4). As such I decided to set x0 equal 2/3 of q.\n",
    "\n",
    "* Write equations to calculate a better approximation of the square root.\n",
    "\n",
    "* Use a loop to iterate the equations a number of times.\n",
    "\n",
    "* Decide on the precision required for the estimated square root, noting that the task instructions square root of 2 be printed to 100 decimal places. The precision of the 100 decimal place calculation was not mentioned, but I have decided that a precision of greater than 100 decimal places is required.\n",
    "\n",
    "* Limit the number of loop iterations to a sensible number say 500 to prevent the algorithm loop oscillating or diverging from the desired result.\n",
    "\n",
    "* Print calculation error message if this irritation limit is reached and revise the method for initial guess for the square root.\n",
    "\n",
    "* Devise a method for storing the square root to 100 decimal places.\n",
    "\n",
    "* Decide how to display the square root result to 100 decimal places.\n",
    "\n",
    "* Test the function against known values/functions for square root.\n",
    "\n",
    "***"
   ]
  },
  {
   "cell_type": "code",
   "execution_count": 1,
   "metadata": {},
   "outputs": [],
   "source": [
    "# Implementation of sqrt2 function code\n",
    "\n",
    "# Square root function\n",
    "def sqrt2(q):\n",
    "    # Set initial guess for the square root x0 equal 2/3 of q\n",
    "    x = (2 * q)/3\n",
    "    # Set precision of print result\n",
    "    precision = 100\n",
    "    \n",
    "    # Calculate Bakhshali algorithm modifer, a\n",
    "    a = (q - (x * x))/(2 * x)\n",
    "    \n",
    "    # Calculate next best guess for square root, xNew\n",
    "    xNew = (x + a - ( (a*a)/( 2*(x+a) ) ))\n",
    "\n",
    "    # Print result of x & a & x_new to set precision. Code adapted from https://mkaz.blog/code/python-string-format-cookbook/\n",
    "    print( \"x is {:.{}f}\".format( x, precision ) )\n",
    "    print( \"a is {:.{}f}\".format( a, precision ) )\n",
    "    print( \"xNew is {:.{}f}\\n\".format( xNew, precision ) )\n"
   ]
  },
  {
   "cell_type": "markdown",
   "metadata": {},
   "source": [
    "### Testing\n",
    "\n",
    "\n"
   ]
  },
  {
   "cell_type": "code",
   "execution_count": 2,
   "metadata": {},
   "outputs": [
    {
     "name": "stdout",
     "output_type": "stream",
     "text": [
      "x is 2.6666666666666665186369300499791279435157775878906250000000000000000000000000000000000000000000000000\n",
      "a is -0.5833333333333332593184650249895639717578887939453125000000000000000000000000000000000000000000000000\n",
      "xNew is 2.0016666666666664831097932619741186499595642089843750000000000000000000000000000000000000000000000000\n",
      "\n",
      "x is 10.6666666666666660745477201999165117740631103515625000000000000000000000000000000000000000000000000000\n",
      "a is -4.5833333333333330372738600999582558870315551757812500000000000000000000000000000000000000000000000000\n",
      "xNew is 4.3567351598173509330536035122349858283996582031250000000000000000000000000000000000000000000000000000\n",
      "\n",
      "x is 1.3333333333333332593184650249895639717578887939453125000000000000000000000000000000000000000000000000\n",
      "a is 0.0833333333333333703407674875052180141210556030273437500000000000000000000000000000000000000000000000\n",
      "xNew is 1.4142156862745096645994635764509439468383789062500000000000000000000000000000000000000000000000000000\n",
      "\n"
     ]
    }
   ],
   "source": [
    "# Code for Testing\n",
    "\n",
    "# Test 1 - Perfect square a\n",
    "sqrt2(4)\n",
    "\n",
    "# Test 2 - Perfect square b\n",
    "sqrt2(16)\n",
    "\n",
    "# Test 3 - Square root of 2\n",
    "sqrt2(2)"
   ]
  }
 ],
 "metadata": {
  "kernelspec": {
   "display_name": "Python 3",
   "language": "python",
   "name": "python3"
  },
  "language_info": {
   "codemirror_mode": {
    "name": "ipython",
    "version": 3
   },
   "file_extension": ".py",
   "mimetype": "text/x-python",
   "name": "python",
   "nbconvert_exporter": "python",
   "pygments_lexer": "ipython3",
   "version": "3.8.3"
  }
 },
 "nbformat": 4,
 "nbformat_minor": 4
}
