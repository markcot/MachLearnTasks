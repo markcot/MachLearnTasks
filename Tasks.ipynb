{
 "cells": [
  {
   "cell_type": "markdown",
   "metadata": {},
   "source": [
    "# Assessment Tasks\n",
    "\n",
    "**Author:** Mark Cotter\n",
    "**Email:**  g00376335@gmit.ie\n",
    "\n",
    "This is my Jupyter notebook for researching, developing and documenting assessment task set for the GMIT module Machine Learning and Statistics.\n",
    "\n",
    "***"
   ]
  },
  {
   "cell_type": "markdown",
   "metadata": {},
   "source": [
    "## Task 1: Square Root Function\n",
    "\n",
    "**Task Description:** Write a Python function called sqrt2 that calculates and prints to the screen the square root of 2 to 100 decimal places.\n",
    "\n",
    "***\n",
    "\n",
    "### References\n",
    "[1] Square root - definition; Cambridge dictionary; https://dictionary.cambridge.org/dictionary/english/square-root\n",
    "\n",
    "[2] Squares and square roots; MathsIsFun.com; https://www.mathsisfun.com/square-root.html\n",
    "\n",
    "[3] Square root of 2 & Irrational numbers; MathsIsFun.com; https://www.mathsisfun.com/numbers/square-root-2-irrational.html\n",
    "\n",
    "[4] Square Root Of 2; Byjus The Learning App; https://byjus.com/maths/square-root-of-2/\n",
    "\n",
    "[5] Records in computation - Square root of 2; Wikipedia; https://en.wikipedia.org/wiki/Square_root_of_2\n",
    "\n",
    "[6] Square root of 2 to 10 million places; NASA; https://apod.nasa.gov/htmltest/gifcity/sqrt2.10mil\n",
    "\n",
    "[7] Methods_of_computing_square_roots; Wikipedia; https://en.wikipedia.org/wiki/Methods_of_computing_square_roots\n",
    "\n",
    "[8] Newton's method; S. G. Johnson - MIT;  https://math.mit.edu/~stevenj/18.335/newton-sqrt.pdf\n",
    "\n",
    "[9] Pitfalls in the use of computers for the Newton-Raphson Method; D. Mackie and T. Scott; The Mathematical Gazette Vol. 69; https://www.jstor.org/stable/3617567?read-now=1&seq=1#page_scan_tab_contents\n",
    "\n",
    "[10] The Bakhshali manuscript method; A quartically convergent algorithm for square roots; David H Bailey & Jonathan M. Borwein; https://www.davidhbailey.com//dhbtalks/dhb-india-math.pdf\n",
    "\n",
    "[11] Double precision binary64; Basic and interchange formats; Wikipedia;  https://en.wikipedia.org/wiki/IEEE_754\n",
    "\n",
    "### Research\n",
    "\n",
    "Definition of **square root** of a number: A mathematical relationship to a given original number, insofar as when the square root number is multiplied by itself (otherwise known as the number squared), the multiplication result equals the original number [1, 2].\n",
    "\n",
    "The square root of two has a mathematical property that it can not be written as a fraction, makes it an irrational number [3]. This also means that amount of decimal places for square root of 2 is infinite and has currently been calculated to 10 trillion digits [4, 5]. The square root of 2 to 100 decimal places is as follows [6].\n",
    "\n",
    "$$ \\sqrt{2} = 1.4142135623 7309504880 1688724209 6980785696 7187537694 8073176679 7379907324 7846210703 8850387534 3276415727... $$\n",
    "\n",
    "\n",
    "Computers can be used to calculate the approximate square root of a given number, where an initial guess for the square root is taken and a recursive algorithm is used to calculate a better estimate of the square root [7].\n",
    "\n",
    "Newton's method is an algorithm that is often used to quickly calculate the square root of a number [8]. In computing, Newton's method does have problems insofar as a poor initial guess, oscillating successive estimations and rounding errors may cause the algorithm not to converge on the desired result or for two different computers to produce different results using the same algorithm [8, 9]. This algorithm estimates a better approximately of the square root of $q$ using the average of the initial guess $x_{0}$ and fraction of $q$ divided by $x_{0}$, with the reasoning that if $x_{0}$ then $\\frac{q}{x_{0}}$ would be too small. The equation for the first iteration of the Newton's algorithm to calculate the next better square root estimate $x_{1}$ is as follows [8]:\n",
    "\n",
    "***\n",
    "\n",
    "$$ x_{1} = \\frac{1}{2} (x_{0} + \\frac{q}{x_{0}})$$\n",
    "\n",
    "***\n",
    "\n",
    "Another less well known algorithm for calculating the square root of a number is the Bakhshali manuscript method [7, 10]. It is based on an ancient Indian mathematical manuscript. This algorithm also requires the use of an initial guess for the square root $x_{0}$ of a number $q$. To calculate the next better approximation of the square root $x$, a modifier value $a$ is calculated based the difference between $q$ and the square of previous square root estimate $x$. This method has been shown to be equivalent to two iterations of the Newton method [7, 10]. The equations for the first iteration of the Bakhshali algorithm to calculate the next better square root estimate $x_{1}$ is as follows [10]:\n",
    "\n",
    "***\n",
    "\n",
    "$$a_{0} = {\\frac{q - x^2_{0}}{2x_{0}}} $$\n",
    "\n",
    "***\n",
    "\n",
    "$$ x_{1} = x_{0} + a_{0} - {\\frac{a^2_{0}} {2(x_{0} + a_{0})}}$$\n",
    "\n",
    "***\n",
    "\n",
    "### Steps and challenges to implementation the square root algorithm in Python code\n",
    "\n",
    "* Define a Python function called \"sqrt2\" for calculating square roots.\n",
    "\n",
    "* Pick a reasonable initial estimate for the square root the required number. The task instructions require the function to printed to the screen $\\sqrt{2}$. My first chosen estimate setting $x_{0} = \\frac{1}{2} q$ resulted in a having a $0$ value for the Bakhshali method $a$ modifier for testing $\\sqrt{4}$. As such, I decided to set $x_{0} = \\frac{2}{3} q$.\n",
    "\n",
    "* Use a loop to iterate the equations a number of times. A while loop that ends when a reasonable precision is reached was chosen.\n",
    "\n",
    "* Limit the number of loop iterations to a sensible number say 10 to prevent the algorithm loop oscillating or diverging from the desired result creating an infinite loop.\n",
    "\n",
    "* Decide how to display the square root result to 100 decimal places. A formated string seems the best solution.\n",
    "\n",
    "* Write equations to calculate a better approximation of the square root. After applying the Bakhshali method equation [10] the estimate of $\\sqrt{2}$ was achieved correct to 14 to 15 decimal places. However, after the third iteration, the calculations estimate of $\\sqrt{2}$ started oscillating continuously between two estimates. A check using the alternative Newton's method equation [8] showed that it also reached a recurring estimate after the forth iteration and the level of precision for the approximation of $\\sqrt{2}$ was also correct to 14 decimal places. The Bakhshali method appeared to achieve an accurate result for square root in slightly less iterations than the Newton's method.\n",
    "\n",
    "* Test the function against known values/functions for square root. During testing I used user input value version of the sqrt2() function to test two known square roots for two perfect square numbers [2]. For testing I used the Python numpy and math module functions both called sqrt() to check what precision they could achieve and both appear to calculate $\\sqrt{2}$ correct to 15 decimal places also.\n",
    "\n",
    "* Devise a method for storing the square root to 100 decimal places. The estimated approximations of $\\sqrt{2}$ are limited a maximum of 50 decimal places. This appears to be due to the 53 significant bit limit for a 64 bit binary number [11] for Python floating point numbers. After numerous attempts I could not store and displaying more than 53 significant bits to achieve a 100 decimal place precision to print to the screen.\n",
    "\n",
    "* Decide on the precision required for the estimated square root. The task instructions required the estimated $\\sqrt{2}$ be printed to 100 decimal places. The precision of the 100 decimal place calculation was not mentioned. It appears that the Python floating point number precision is limited by the 53 significant bit after which rounding/truncation occurs.\n",
    "\n",
    "***"
   ]
  },
  {
   "cell_type": "code",
   "execution_count": 1,
   "metadata": {
    "scrolled": true
   },
   "outputs": [
    {
     "name": "stdout",
     "output_type": "stream",
     "text": [
      "Iterativity better estimates for the square root of 2 are:\n",
      "1 =1.4142156862745096645994635764509439468383789062500000000000000000000000000000000000000000000000000000\n",
      "2 =1.4142135623730949234300169337075203657150268554687500000000000000000000000000000000000000000000000000\n",
      "3 =1.4142135623730951454746218587388284504413604736328125000000000000000000000000000000000000000000000000\n",
      "4 =1.4142135623730949234300169337075203657150268554687500000000000000000000000000000000000000000000000000\n",
      "5 =1.4142135623730951454746218587388284504413604736328125000000000000000000000000000000000000000000000000\n",
      "6 =1.4142135623730949234300169337075203657150268554687500000000000000000000000000000000000000000000000000\n",
      "7 =1.4142135623730951454746218587388284504413604736328125000000000000000000000000000000000000000000000000\n",
      "8 =1.4142135623730949234300169337075203657150268554687500000000000000000000000000000000000000000000000000\n",
      "9 =1.4142135623730951454746218587388284504413604736328125000000000000000000000000000000000000000000000000\n",
      "10 =1.4142135623730949234300169337075203657150268554687500000000000000000000000000000000000000000000000000\n",
      "\n"
     ]
    }
   ],
   "source": [
    "# Implementation of sqrt2 function code\n",
    "\n",
    "# Square root function METHOD A - user input version of the function\n",
    "#def sqrt2(q):\n",
    "    \n",
    "# Square root function METHOD B - user input version of the function\n",
    "# that only calculates and displays sqrt(2)\n",
    "def sqrt2():\n",
    "    # Set the root number = 2\n",
    "    q = 2\n",
    "    \n",
    "    # Set initial guess for the square root x0 equal 2/3 of q\n",
    "    x = (2 * q)/3\n",
    "    # Set precision of print result\n",
    "    precision = 100\n",
    "    # Loop counter for setting loop break condition\n",
    "    i = 1\n",
    "    # Set maximum loop limit\n",
    "    limit = 10\n",
    "    ## Set METHOD OPTION 1 for Bakhshali method equation, \n",
    "    ## Set METHOD OPTION 2 for Newton's method equation, \n",
    "    method = 1\n",
    "    \n",
    "    # Print Title\n",
    "    print(\"Iterativity better estimates for the square root of\", q, \"are:\")\n",
    "    \n",
    "    # Iriterate until loop is broken\n",
    "    while True:\n",
    "        # End loop at maximum loop count\n",
    "        if i > limit:\n",
    "            break\n",
    "        else:\n",
    "            # Use METHOD OPTION 1 - Bakhshali method\n",
    "            if method == 1:\n",
    "                # Calculate Bakhshali algorithm modifer, a\n",
    "                a = (q - (x * x))/(2 * x)\n",
    "                # Calculate next best guess for square root, using the Bakhshali method equation\n",
    "                x = (x + a - ( (a*a)/( 2*(x+a) ) ))\n",
    "                \n",
    "            # Use METHOD OPTION 2 - Newton's method\n",
    "            elif method == 2:\n",
    "                # Calculate next best guess for square root, using the Newton's method equation\n",
    "                x = (x + (q/x) ) / 2\n",
    "                \n",
    "            # Exit loop if available OPTION not selected\n",
    "            else:\n",
    "                print(\"METHOD selection error\\n\")\n",
    "                # End loop\n",
    "                break\n",
    "            \n",
    "            # Print result of result to set precision for step in the iteration.\n",
    "            # Code adapted from https://mkaz.blog/code/python-string-format-cookbook/\n",
    "            print(i,\"={:.{}f}\".format(x, precision))\n",
    "            # Iterate counter, i\n",
    "            i += 1\n",
    "    # Add blank line\n",
    "    print(\"\")\n",
    "\n",
    "# Run sqrt2() function\n",
    "sqrt2()"
   ]
  },
  {
   "cell_type": "markdown",
   "metadata": {},
   "source": [
    "### Testing\n",
    "\n",
    "\n"
   ]
  },
  {
   "cell_type": "code",
   "execution_count": 2,
   "metadata": {
    "scrolled": false
   },
   "outputs": [],
   "source": [
    "# Code for Testing\n",
    "\n",
    "# Test 1 - Perfect square a\n",
    "#sqrt2(4)\n",
    "\n",
    "# Test 2 - Perfect square b\n",
    "#sqrt2(16)\n",
    "\n",
    "# Test 3 - Square root of 2\n",
    "#sqrt2(2)"
   ]
  },
  {
   "cell_type": "code",
   "execution_count": 3,
   "metadata": {
    "scrolled": true
   },
   "outputs": [
    {
     "name": "stdout",
     "output_type": "stream",
     "text": [
      "Python Math module square root of 2 is:\n",
      "1.4142135623730951454746218587388284504413604736328125000000000000000000000000000000000000000000000000\n"
     ]
    }
   ],
   "source": [
    "# Import math module for testing\n",
    "import math\n",
    "# Display math square root function for sqrt of 2\n",
    "print(\"Python Math module square root of 2 is:\\n{:.{}f}\".format(math.sqrt(2), 100))"
   ]
  },
  {
   "cell_type": "code",
   "execution_count": 4,
   "metadata": {
    "scrolled": true
   },
   "outputs": [
    {
     "name": "stdout",
     "output_type": "stream",
     "text": [
      "Python Numpy module square root of 2 is:\n",
      "1.4142135623730951454746218587388284504413604736328125000000000000000000000000000000000000000000000000\n"
     ]
    }
   ],
   "source": [
    "# Import numpy module for testing\n",
    "import numpy as np\n",
    "# Display numpy square root function for sqrt of 2\n",
    "print(\"Python Numpy module square root of 2 is:\\n{:.{}f}\".format(np.sqrt(2), 100))"
   ]
  },
  {
   "cell_type": "markdown",
   "metadata": {},
   "source": [
    "### Conclusion\n",
    "Using Python, both the Bakhshali method and Newton's method can be used to calculate the $\\sqrt{2}$ using floating point number correct to 14 decimal places. A larger binary bit would be required to calculate a more accurate estimate of $\\sqrt{2}$ using computers.\n",
    "\n",
    "***"
   ]
  }
 ],
 "metadata": {
  "kernelspec": {
   "display_name": "Python 3",
   "language": "python",
   "name": "python3"
  },
  "language_info": {
   "codemirror_mode": {
    "name": "ipython",
    "version": 3
   },
   "file_extension": ".py",
   "mimetype": "text/x-python",
   "name": "python",
   "nbconvert_exporter": "python",
   "pygments_lexer": "ipython3",
   "version": "3.8.3"
  }
 },
 "nbformat": 4,
 "nbformat_minor": 4
}
